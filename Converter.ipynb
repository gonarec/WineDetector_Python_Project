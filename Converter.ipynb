{
 "cells": [
  {
   "cell_type": "code",
   "execution_count": 3,
   "metadata": {},
   "outputs": [],
   "source": [
    "import numpy as np\n",
    "import pandas as pd"
   ]
  },
  {
   "cell_type": "code",
   "execution_count": 5,
   "metadata": {},
   "outputs": [
    {
     "name": "stdout",
     "output_type": "stream",
     "text": [
      "<class 'pandas.core.frame.DataFrame'>\n",
      "RangeIndex: 1599 entries, 0 to 1598\n",
      "Data columns (total 12 columns):\n",
      " #   Column                Non-Null Count  Dtype  \n",
      "---  ------                --------------  -----  \n",
      " 0   fixed acidity         1517 non-null   float64\n",
      " 1   volatile acidity      1508 non-null   float64\n",
      " 2   citric acid           1530 non-null   float64\n",
      " 3   residual sugar        1520 non-null   float64\n",
      " 4   chlorides             1513 non-null   float64\n",
      " 5   free sulfur dioxide   1527 non-null   float64\n",
      " 6   total sulfur dioxide  1507 non-null   float64\n",
      " 7   density               1512 non-null   float64\n",
      " 8   pH                    1515 non-null   float64\n",
      " 9   sulphates             1516 non-null   float64\n",
      " 10  alcohol               1512 non-null   float64\n",
      " 11  quality               1599 non-null   int64  \n",
      "dtypes: float64(11), int64(1)\n",
      "memory usage: 150.0 KB\n"
     ]
    }
   ],
   "source": [
    "#Insert of Nan value in the dataset\n",
    "df=pd.read_csv('archive/winequality-red.csv')\n",
    "mask=np.random.rand(*df.shape) < 0.05\n",
    "colonna_da_escludere = 'quality'\n",
    "mask[:, df.columns.get_loc(colonna_da_escludere)] = False\n",
    "df[mask]=np.nan\n",
    "df.to_csv('winequality_red.csv', index=False)\n",
    "df.info()"
   ]
  }
 ],
 "metadata": {
  "kernelspec": {
   "display_name": "Python 3",
   "language": "python",
   "name": "python3"
  },
  "language_info": {
   "codemirror_mode": {
    "name": "ipython",
    "version": 3
   },
   "file_extension": ".py",
   "mimetype": "text/x-python",
   "name": "python",
   "nbconvert_exporter": "python",
   "pygments_lexer": "ipython3",
   "version": "3.11.7"
  }
 },
 "nbformat": 4,
 "nbformat_minor": 2
}
