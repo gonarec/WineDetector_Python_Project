{
 "cells": [
  {
   "cell_type": "code",
   "execution_count": 3,
   "metadata": {},
   "outputs": [],
   "source": [
    "import numpy as np\n",
    "import pandas as pd"
   ]
  },
  {
   "cell_type": "code",
   "execution_count": 4,
   "metadata": {},
   "outputs": [
    {
     "data": {
      "text/plain": [
       "fixed acidity           92\n",
       "volatile acidity        75\n",
       "citric acid             91\n",
       "residual sugar          80\n",
       "chlorides               97\n",
       "free sulfur dioxide     94\n",
       "total sulfur dioxide    82\n",
       "density                 69\n",
       "pH                      84\n",
       "sulphates               85\n",
       "alcohol                 73\n",
       "quality                  0\n",
       "dtype: int64"
      ]
     },
     "execution_count": 4,
     "metadata": {},
     "output_type": "execute_result"
    }
   ],
   "source": [
    "#Insert of Nan value in the dataset\n",
    "df=pd.read_csv('archive/winequality-red.csv')\n",
    "mask=np.random.rand(*df.shape) < 0.05\n",
    "colonna = 'quality'\n",
    "mask[:, df.columns.get_loc(colonna)] = False\n",
    "df[mask]=np.nan\n",
    "df.to_csv('winequality_red.csv', index=False)\n",
    "df.isnull().sum()"
   ]
  }
 ],
 "metadata": {
  "kernelspec": {
   "display_name": "Python 3",
   "language": "python",
   "name": "python3"
  },
  "language_info": {
   "codemirror_mode": {
    "name": "ipython",
    "version": 3
   },
   "file_extension": ".py",
   "mimetype": "text/x-python",
   "name": "python",
   "nbconvert_exporter": "python",
   "pygments_lexer": "ipython3",
   "version": "3.11.7"
  }
 },
 "nbformat": 4,
 "nbformat_minor": 2
}
